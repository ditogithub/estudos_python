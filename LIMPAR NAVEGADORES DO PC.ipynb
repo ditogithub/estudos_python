{
 "cells": [
  {
   "cell_type": "code",
   "execution_count": null,
   "id": "7ff7a004",
   "metadata": {},
   "outputs": [],
   "source": [
    "import pyautogui\n",
    "import pyperclip\n",
    "import time\n",
    "\n",
    "pyautogui.hotkey(\"ctrl\",\"t\") # abrir nova aba no navegador!\n",
    "time.sleep(3)\n",
    "pyautogui.hotkey(\"ctrl\", \"h\") # Abrir histórico do navegador!\n",
    "time.sleep(3)\n",
    "pyautogui.click(x=901, y=82) # Abrir página de histórico.\n",
    "time.sleep(4)\n",
    "pyautogui.click(x=1083, y=151) # Clicar em limpar dados de navegação.\n",
    "time.sleep(10)\n",
    "pyautogui.click(x=601, y=260) # Clicar em menu do intervalo de tempo.\n",
    "time.sleep(4)\n",
    "pyautogui.click(x=579, y=428) # Clicar na opção \"Desde o Começo\" .\n",
    "time.sleep(4)\n",
    "pyautogui.click(x=582, y=634) # Clicar em \"limpar Agora\".\n",
    "time.sleep(4)\n",
    "pyautogui.hotkey(\"ctrl\",\"w\") # fechar ultima aba do navegador!\n",
    "time.sleep(4)\n",
    "pyautogui.hotkey(\"ctrl\",\"w\") # fechar penultima aba do navegador!\n",
    "time.sleep(4)\n",
    "pyautogui.hotkey(\"ctrl\",\"w\") # fechar antipenultima aba do navegador!\n",
    "time.sleep(4)\n",
    "pyautogui.click(x=146, y=755) # Clicar na barra pesquisar da área de trabalho!\n",
    "time.sleep(4)\n",
    "pyautogui.write(\"chrome\") # escrever a palavra \"chrome\"!\n",
    "time.sleep(4)\n",
    "pyautogui.hotkey(\"enter\") # dar enter para abrir o navegador chrome!\n",
    "time.sleep(5)\n",
    "pyautogui.click(x=1211, y=43) # Clicar em maximizar janela do chrome!\n",
    "time.sleep(15)\n",
    "pyautogui.click(x=1339, y=55) # clicar nos tres pontinhos do navegador!\n",
    "time.sleep(4)\n",
    "pyautogui.click(x=1107, y=157) # clicar no menu historico!\n",
    "time.sleep(4)\n",
    "pyautogui.click(x=991, y=156) # clicar em \"ctrl + H\" !\n",
    "time.sleep(4)\n",
    "pyautogui.click(x=102, y=324) # clicar em remover dados de navegação!\n",
    "time.sleep(5)\n",
    "pyautogui.click(x=649, y=212) # clicar na seta \" periodo\"\n",
    "time.sleep(5)\n",
    "pyautogui.click(x=581, y=308) # clicar em \" todo o periodo\" !\n",
    "time.sleep(5)\n",
    "pyautogui.click(x=928, y=503,clicks=4)\n",
    "time.sleep(5)\n",
    "pyautogui.click(x=862, y=549) # clicar em remover dados!\n",
    "time.sleep(5)\n",
    "pyautogui.hotkey(\"ctrl\",\"w\") # fecha a aba do navegador.\n",
    "time.sleep(5)\n",
    "pyautogui.hotkey(\"ctrl\",\"w\") # fecha a aba do navegador.\n",
    "time.sleep(5)\n",
    "\n",
    "\n"
   ]
  },
  {
   "cell_type": "code",
   "execution_count": 2,
   "id": "afb20bce",
   "metadata": {},
   "outputs": [
    {
     "data": {
      "text/plain": [
       "Point(x=1211, y=43)"
      ]
     },
     "execution_count": 2,
     "metadata": {},
     "output_type": "execute_result"
    }
   ],
   "source": [
    "import time\n",
    "import pyautogui\n",
    "time.sleep(7)\n",
    "pyautogui.position()"
   ]
  },
  {
   "cell_type": "code",
   "execution_count": null,
   "id": "01da4f7d",
   "metadata": {},
   "outputs": [],
   "source": []
  }
 ],
 "metadata": {
  "kernelspec": {
   "display_name": "Python 3 (ipykernel)",
   "language": "python",
   "name": "python3"
  },
  "language_info": {
   "codemirror_mode": {
    "name": "ipython",
    "version": 3
   },
   "file_extension": ".py",
   "mimetype": "text/x-python",
   "name": "python",
   "nbconvert_exporter": "python",
   "pygments_lexer": "ipython3",
   "version": "3.9.13"
  }
 },
 "nbformat": 4,
 "nbformat_minor": 5
}
